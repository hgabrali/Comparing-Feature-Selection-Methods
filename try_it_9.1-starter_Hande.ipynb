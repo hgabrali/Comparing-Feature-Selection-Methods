{
 "cells": [
  {
   "cell_type": "markdown",
   "metadata": {},
   "source": [
    "### Try It: Comparing Feature Selection Methods\n",
    "\n",
    "In this module, you have seen two ways to select features.  The first approach is using sequential feature selection to sequentially add or delete features and only use those that improve the model.  The second approach is using a regularized model to identify features based on non-zero coefficients.  This activity focuses on comparing variations of both these methods.  \n",
    "\n",
    "You will use both the `SequentialFeatureSelection` and `RFE` (recursive feature elimination) to build and compare regression models.  Consider the following 6 feature selection methods -- leave all other arguments to default besides the `estimator` and `n_features_to_select` arguments:\n",
    "\n",
    "- `Ridge` regressor to extract coefficients\n",
    "- `SequentialFeatureSelection` using the `Lasso` to select 4 features.\n",
    "- `RFE` using `Lasso` to select 4 features.\n",
    "\n",
    "For each of these, fit the training data `X_train`, `y_train` below.  Compare the magnitude of the results of your `Ridge` model to those that result from feature selection methods.  \n",
    "\n",
    "#### The Data\n",
    "\n",
    "For this problem a dataset with information on red wine chemical compositions and their quality is given.  Your goal is to use the properties of the wine to predict the quality.  Below, the data is loaded and train/test splits constructed."
   ]
  },
  {
   "cell_type": "code",
   "execution_count": 29,
   "metadata": {},
   "outputs": [],
   "source": [
    "import pandas as pd\n",
    "import numpy as np\n",
    "import matplotlib.pyplot as plt\n",
    "from sklearn.model_selection import train_test_split\n",
    "from warnings import filterwarnings\n",
    "filterwarnings('ignore')"
   ]
  },
  {
   "cell_type": "code",
   "execution_count": 18,
   "metadata": {},
   "outputs": [],
   "source": [
    "import numpy as np\n",
    "import pandas as pd\n",
    "import scipy.stats as stats\n",
    "import matplotlib.pyplot as plt\n",
    "import sklearn\n",
    "import sys\n",
    "import mglearn\n",
    "import matplotlib\n",
    "import scipy as sp\n",
    "import IPython\n",
    "import sklearn\n",
    "from sklearn.datasets import load_boston\n",
    "from sklearn.linear_model import LinearRegression\n",
    "from sklearn.linear_model import LogisticRegression\n",
    "from sklearn.datasets import make_regression\n",
    "from sklearn.linear_model import Ridge\n",
    "from sklearn.metrics import mean_squared_error"
   ]
  },
  {
   "cell_type": "code",
   "execution_count": 30,
   "metadata": {},
   "outputs": [],
   "source": [
    "df = pd.read_csv('C:/Users/hande/Downloads/winequality-red.csv')"
   ]
  },
  {
   "cell_type": "code",
   "execution_count": 31,
   "metadata": {},
   "outputs": [
    {
     "data": {
      "text/html": [
       "<div>\n",
       "<style scoped>\n",
       "    .dataframe tbody tr th:only-of-type {\n",
       "        vertical-align: middle;\n",
       "    }\n",
       "\n",
       "    .dataframe tbody tr th {\n",
       "        vertical-align: top;\n",
       "    }\n",
       "\n",
       "    .dataframe thead th {\n",
       "        text-align: right;\n",
       "    }\n",
       "</style>\n",
       "<table border=\"1\" class=\"dataframe\">\n",
       "  <thead>\n",
       "    <tr style=\"text-align: right;\">\n",
       "      <th></th>\n",
       "      <th>fixed acidity</th>\n",
       "      <th>volatile acidity</th>\n",
       "      <th>citric acid</th>\n",
       "      <th>residual sugar</th>\n",
       "      <th>chlorides</th>\n",
       "      <th>free sulfur dioxide</th>\n",
       "      <th>total sulfur dioxide</th>\n",
       "      <th>density</th>\n",
       "      <th>pH</th>\n",
       "      <th>sulphates</th>\n",
       "      <th>alcohol</th>\n",
       "      <th>quality</th>\n",
       "    </tr>\n",
       "  </thead>\n",
       "  <tbody>\n",
       "    <tr>\n",
       "      <th>0</th>\n",
       "      <td>7.4</td>\n",
       "      <td>0.70</td>\n",
       "      <td>0.00</td>\n",
       "      <td>1.9</td>\n",
       "      <td>0.076</td>\n",
       "      <td>11.0</td>\n",
       "      <td>34.0</td>\n",
       "      <td>0.9978</td>\n",
       "      <td>3.51</td>\n",
       "      <td>0.56</td>\n",
       "      <td>9.4</td>\n",
       "      <td>5</td>\n",
       "    </tr>\n",
       "    <tr>\n",
       "      <th>1</th>\n",
       "      <td>7.8</td>\n",
       "      <td>0.88</td>\n",
       "      <td>0.00</td>\n",
       "      <td>2.6</td>\n",
       "      <td>0.098</td>\n",
       "      <td>25.0</td>\n",
       "      <td>67.0</td>\n",
       "      <td>0.9968</td>\n",
       "      <td>3.20</td>\n",
       "      <td>0.68</td>\n",
       "      <td>9.8</td>\n",
       "      <td>5</td>\n",
       "    </tr>\n",
       "    <tr>\n",
       "      <th>2</th>\n",
       "      <td>7.8</td>\n",
       "      <td>0.76</td>\n",
       "      <td>0.04</td>\n",
       "      <td>2.3</td>\n",
       "      <td>0.092</td>\n",
       "      <td>15.0</td>\n",
       "      <td>54.0</td>\n",
       "      <td>0.9970</td>\n",
       "      <td>3.26</td>\n",
       "      <td>0.65</td>\n",
       "      <td>9.8</td>\n",
       "      <td>5</td>\n",
       "    </tr>\n",
       "    <tr>\n",
       "      <th>3</th>\n",
       "      <td>11.2</td>\n",
       "      <td>0.28</td>\n",
       "      <td>0.56</td>\n",
       "      <td>1.9</td>\n",
       "      <td>0.075</td>\n",
       "      <td>17.0</td>\n",
       "      <td>60.0</td>\n",
       "      <td>0.9980</td>\n",
       "      <td>3.16</td>\n",
       "      <td>0.58</td>\n",
       "      <td>9.8</td>\n",
       "      <td>6</td>\n",
       "    </tr>\n",
       "    <tr>\n",
       "      <th>4</th>\n",
       "      <td>7.4</td>\n",
       "      <td>0.70</td>\n",
       "      <td>0.00</td>\n",
       "      <td>1.9</td>\n",
       "      <td>0.076</td>\n",
       "      <td>11.0</td>\n",
       "      <td>34.0</td>\n",
       "      <td>0.9978</td>\n",
       "      <td>3.51</td>\n",
       "      <td>0.56</td>\n",
       "      <td>9.4</td>\n",
       "      <td>5</td>\n",
       "    </tr>\n",
       "  </tbody>\n",
       "</table>\n",
       "</div>"
      ],
      "text/plain": [
       "   fixed acidity  volatile acidity  citric acid  residual sugar  chlorides  \\\n",
       "0            7.4              0.70         0.00             1.9      0.076   \n",
       "1            7.8              0.88         0.00             2.6      0.098   \n",
       "2            7.8              0.76         0.04             2.3      0.092   \n",
       "3           11.2              0.28         0.56             1.9      0.075   \n",
       "4            7.4              0.70         0.00             1.9      0.076   \n",
       "\n",
       "   free sulfur dioxide  total sulfur dioxide  density    pH  sulphates  \\\n",
       "0                 11.0                  34.0   0.9978  3.51       0.56   \n",
       "1                 25.0                  67.0   0.9968  3.20       0.68   \n",
       "2                 15.0                  54.0   0.9970  3.26       0.65   \n",
       "3                 17.0                  60.0   0.9980  3.16       0.58   \n",
       "4                 11.0                  34.0   0.9978  3.51       0.56   \n",
       "\n",
       "   alcohol  quality  \n",
       "0      9.4        5  \n",
       "1      9.8        5  \n",
       "2      9.8        5  \n",
       "3      9.8        6  \n",
       "4      9.4        5  "
      ]
     },
     "execution_count": 31,
     "metadata": {},
     "output_type": "execute_result"
    }
   ],
   "source": [
    "df.head()"
   ]
  },
  {
   "cell_type": "code",
   "execution_count": 32,
   "metadata": {},
   "outputs": [],
   "source": [
    "X = df.drop('quality', axis = 1)\n",
    "y = df['quality']"
   ]
  },
  {
   "cell_type": "code",
   "execution_count": 33,
   "metadata": {},
   "outputs": [
    {
     "data": {
      "text/plain": [
       "<AxesSubplot:>"
      ]
     },
     "execution_count": 33,
     "metadata": {},
     "output_type": "execute_result"
    },
    {
     "data": {
      "image/png": "[encoded data removed]",
      "text/plain": [
       "<Figure size 432x288 with 1 Axes>"
      ]
     },
     "metadata": {
      "needs_background": "light"
     },
     "output_type": "display_data"
    }
   ],
   "source": [
    "y.hist()"
   ]
  },
  {
   "cell_type": "code",
   "execution_count": 34,
   "metadata": {},
   "outputs": [],
   "source": [
    "X_train, X_test, y_train, y_test = train_test_split(X, y, random_state = 42)"
   ]
  },
  {
   "cell_type": "code",
   "execution_count": 35,
   "metadata": {},
   "outputs": [],
   "source": [
    "from sklearn.linear_model import Ridge, Lasso, LinearRegression\n",
    "from sklearn.feature_selection import SequentialFeatureSelector, RFE"
   ]
  },
  {
   "cell_type": "markdown",
   "metadata": {},
   "source": [
    "# RIDGE REGRESSION"
   ]
  },
  {
   "cell_type": "code",
   "execution_count": 36,
   "metadata": {},
   "outputs": [],
   "source": [
    "ridge_model = Ridge(alpha = 0.1).fit(X_train, y_train)"
   ]
  },
  {
   "cell_type": "code",
   "execution_count": 37,
   "metadata": {},
   "outputs": [
    {
     "data": {
      "text/plain": [
       "Ridge(alpha=0.1)"
      ]
     },
     "execution_count": 37,
     "metadata": {},
     "output_type": "execute_result"
    }
   ],
   "source": [
    "ridge_model"
   ]
  },
  {
   "cell_type": "code",
   "execution_count": 38,
   "metadata": {},
   "outputs": [
    {
     "data": {
      "text/plain": [
       "array([ 0.00781478, -1.02297112, -0.13979851,  0.00182848, -1.69082909,\n",
       "        0.00514743, -0.00368173, -0.11552008, -0.41545062,  0.78737895,\n",
       "        0.30185043])"
      ]
     },
     "execution_count": 38,
     "metadata": {},
     "output_type": "execute_result"
    }
   ],
   "source": [
    "ridge_model.coef_"
   ]
  },
  {
   "cell_type": "code",
   "execution_count": 39,
   "metadata": {},
   "outputs": [
    {
     "data": {
      "text/plain": [
       "array([5.00000000e+09, 3.78231664e+09, 2.86118383e+09, 2.16438064e+09,\n",
       "       1.63727458e+09, 1.23853818e+09, 9.36908711e+08, 7.08737081e+08,\n",
       "       5.36133611e+08, 4.05565415e+08, 3.06795364e+08, 2.32079442e+08,\n",
       "       1.75559587e+08, 1.32804389e+08, 1.00461650e+08, 7.59955541e+07,\n",
       "       5.74878498e+07, 4.34874501e+07, 3.28966612e+07, 2.48851178e+07,\n",
       "       1.88246790e+07, 1.42401793e+07, 1.07721735e+07, 8.14875417e+06,\n",
       "       6.16423370e+06, 4.66301673e+06, 3.52740116e+06, 2.66834962e+06,\n",
       "       2.01850863e+06, 1.52692775e+06, 1.15506485e+06, 8.73764200e+05,\n",
       "       6.60970574e+05, 5.00000000e+05, 3.78231664e+05, 2.86118383e+05,\n",
       "       2.16438064e+05, 1.63727458e+05, 1.23853818e+05, 9.36908711e+04,\n",
       "       7.08737081e+04, 5.36133611e+04, 4.05565415e+04, 3.06795364e+04,\n",
       "       2.32079442e+04, 1.75559587e+04, 1.32804389e+04, 1.00461650e+04,\n",
       "       7.59955541e+03, 5.74878498e+03, 4.34874501e+03, 3.28966612e+03,\n",
       "       2.48851178e+03, 1.88246790e+03, 1.42401793e+03, 1.07721735e+03,\n",
       "       8.14875417e+02, 6.16423370e+02, 4.66301673e+02, 3.52740116e+02,\n",
       "       2.66834962e+02, 2.01850863e+02, 1.52692775e+02, 1.15506485e+02,\n",
       "       8.73764200e+01, 6.60970574e+01, 5.00000000e+01, 3.78231664e+01,\n",
       "       2.86118383e+01, 2.16438064e+01, 1.63727458e+01, 1.23853818e+01,\n",
       "       9.36908711e+00, 7.08737081e+00, 5.36133611e+00, 4.05565415e+00,\n",
       "       3.06795364e+00, 2.32079442e+00, 1.75559587e+00, 1.32804389e+00,\n",
       "       1.00461650e+00, 7.59955541e-01, 5.74878498e-01, 4.34874501e-01,\n",
       "       3.28966612e-01, 2.48851178e-01, 1.88246790e-01, 1.42401793e-01,\n",
       "       1.07721735e-01, 8.14875417e-02, 6.16423370e-02, 4.66301673e-02,\n",
       "       3.52740116e-02, 2.66834962e-02, 2.01850863e-02, 1.52692775e-02,\n",
       "       1.15506485e-02, 8.73764200e-03, 6.60970574e-03, 5.00000000e-03])"
      ]
     },
     "execution_count": 39,
     "metadata": {},
     "output_type": "execute_result"
    }
   ],
   "source": [
    "10**np.linspace(10,-2,100)*0.5 "
   ]
  },
  {
   "cell_type": "code",
   "execution_count": 40,
   "metadata": {},
   "outputs": [
    {
     "data": {
      "image/png": "[encoded data removed]",
      "text/plain": [
       "<Figure size 432x288 with 1 Axes>"
      ]
     },
     "metadata": {
      "needs_background": "light"
     },
     "output_type": "display_data"
    }
   ],
   "source": [
    "lambdas = 10**np.linspace(10,-2,100)*0.5 \n",
    "\n",
    "ridge_model = Ridge()\n",
    "coefficients = []\n",
    "\n",
    "for i in lambdas:\n",
    "    ridge_model.set_params(alpha = i)\n",
    "    ridge_model.fit(X_train, y_train) \n",
    "    coefficients.append(ridge_model.coef_) \n",
    "    \n",
    "\n",
    "    \n",
    "ax = plt.gca()\n",
    "ax.plot(lambdas, coefficients) \n",
    "ax.set_xscale('log') \n",
    "\n",
    "plt.xlabel('Lambda(Alpha) Values')\n",
    "plt.ylabel('Coefficients/Weights')\n",
    "plt.title('Ridge Coefficients as a Function of Regularization');"
   ]
  },
  {
   "cell_type": "code",
   "execution_count": 41,
   "metadata": {},
   "outputs": [],
   "source": [
    "# Prediction:\n",
    "y_pred = ridge_model.predict(X_test)"
   ]
  },
  {
   "cell_type": "code",
   "execution_count": 42,
   "metadata": {},
   "outputs": [
    {
     "data": {
      "text/plain": [
       "0.6233248958550857"
      ]
     },
     "execution_count": 42,
     "metadata": {},
     "output_type": "execute_result"
    }
   ],
   "source": [
    "np.sqrt(mean_squared_error(y_test, y_pred))"
   ]
  },
  {
   "cell_type": "code",
   "execution_count": 43,
   "metadata": {},
   "outputs": [],
   "source": [
    "# Model Tuning:\n",
    "lambdas = 10**np.linspace(10,-2,100)*0.5 "
   ]
  },
  {
   "cell_type": "code",
   "execution_count": 44,
   "metadata": {},
   "outputs": [
    {
     "data": {
      "text/plain": [
       "array([5.00000000e+09, 3.78231664e+09, 2.86118383e+09, 2.16438064e+09,\n",
       "       1.63727458e+09])"
      ]
     },
     "execution_count": 44,
     "metadata": {},
     "output_type": "execute_result"
    }
   ],
   "source": [
    "lambdas[0:5]"
   ]
  },
  {
   "cell_type": "code",
   "execution_count": 45,
   "metadata": {},
   "outputs": [],
   "source": [
    "from sklearn.linear_model import RidgeCV\n",
    "ridge_cv = RidgeCV(alphas = lambdas, \n",
    "                   scoring = \"neg_mean_squared_error\",\n",
    "                   normalize = True)"
   ]
  },
  {
   "cell_type": "code",
   "execution_count": 46,
   "metadata": {},
   "outputs": [
    {
     "data": {
      "text/plain": [
       "RidgeCV(alphas=array([5.00000000e+09, 3.78231664e+09, 2.86118383e+09, 2.16438064e+09,\n",
       "       1.63727458e+09, 1.23853818e+09, 9.36908711e+08, 7.08737081e+08,\n",
       "       5.36133611e+08, 4.05565415e+08, 3.06795364e+08, 2.32079442e+08,\n",
       "       1.75559587e+08, 1.32804389e+08, 1.00461650e+08, 7.59955541e+07,\n",
       "       5.74878498e+07, 4.34874501e+07, 3.28966612e+07, 2.48851178e+07,\n",
       "       1.88246790e+07, 1.42401793e+0...\n",
       "       1.00461650e+00, 7.59955541e-01, 5.74878498e-01, 4.34874501e-01,\n",
       "       3.28966612e-01, 2.48851178e-01, 1.88246790e-01, 1.42401793e-01,\n",
       "       1.07721735e-01, 8.14875417e-02, 6.16423370e-02, 4.66301673e-02,\n",
       "       3.52740116e-02, 2.66834962e-02, 2.01850863e-02, 1.52692775e-02,\n",
       "       1.15506485e-02, 8.73764200e-03, 6.60970574e-03, 5.00000000e-03]),\n",
       "        normalize=True, scoring='neg_mean_squared_error')"
      ]
     },
     "execution_count": 46,
     "metadata": {},
     "output_type": "execute_result"
    }
   ],
   "source": [
    "ridge_cv.fit(X_train, y_train)"
   ]
  },
  {
   "cell_type": "code",
   "execution_count": 47,
   "metadata": {},
   "outputs": [
    {
     "data": {
      "text/plain": [
       "0.06164233697210317"
      ]
     },
     "execution_count": 47,
     "metadata": {},
     "output_type": "execute_result"
    }
   ],
   "source": [
    "ridge_cv.alpha_"
   ]
  },
  {
   "cell_type": "code",
   "execution_count": 48,
   "metadata": {},
   "outputs": [],
   "source": [
    "ridge_tuned = Ridge(alpha = ridge_cv.alpha_, \n",
    "                   normalize = True).fit(X_train,y_train)"
   ]
  },
  {
   "cell_type": "code",
   "execution_count": 49,
   "metadata": {},
   "outputs": [
    {
     "data": {
      "text/plain": [
       "0.6241760477567169"
      ]
     },
     "execution_count": 49,
     "metadata": {},
     "output_type": "execute_result"
    }
   ],
   "source": [
    "np.sqrt(mean_squared_error(y_test, ridge_tuned.predict(X_test))) # Test Error"
   ]
  },
  {
   "cell_type": "markdown",
   "metadata": {},
   "source": [
    "# LASSO"
   ]
  },
  {
   "cell_type": "code",
   "execution_count": 90,
   "metadata": {},
   "outputs": [],
   "source": [
    "lasso_model = Lasso(alpha = 0.1).fit(X_train, y_train)"
   ]
  },
  {
   "cell_type": "code",
   "execution_count": 91,
   "metadata": {},
   "outputs": [
    {
     "data": {
      "text/plain": [
       "Lasso(alpha=0.1)"
      ]
     },
     "execution_count": 91,
     "metadata": {},
     "output_type": "execute_result"
    }
   ],
   "source": [
    "lasso_model"
   ]
  },
  {
   "cell_type": "code",
   "execution_count": 92,
   "metadata": {},
   "outputs": [
    {
     "data": {
      "text/plain": [
       "array([ 0.02214667, -0.        ,  0.        ,  0.        , -0.        ,\n",
       "        0.00598117, -0.00423658, -0.        , -0.        ,  0.        ,\n",
       "        0.26112841])"
      ]
     },
     "execution_count": 92,
     "metadata": {},
     "output_type": "execute_result"
    }
   ],
   "source": [
    "lasso_model.coef_"
   ]
  },
  {
   "cell_type": "code",
   "execution_count": 93,
   "metadata": {},
   "outputs": [
    {
     "data": {
      "text/plain": [
       "Text(0, 0.5, 'weights')"
      ]
     },
     "execution_count": 93,
     "metadata": {},
     "output_type": "execute_result"
    },
    {
     "data": {
      "image/png": "[encoded data removed]",
      "text/plain": [
       "<Figure size 432x288 with 1 Axes>"
      ]
     },
     "metadata": {
      "needs_background": "light"
     },
     "output_type": "display_data"
    }
   ],
   "source": [
    "lasso = Lasso()\n",
    "lambdas = 10**np.linspace(10,-2,100)*0.5 \n",
    "coefficients = []\n",
    "\n",
    "for i in lambdas:\n",
    "    lasso.set_params(alpha=i)\n",
    "    lasso.fit(X_train, y_train)\n",
    "    coefficients.append(lasso.coef_)\n",
    "    \n",
    "ax = plt.gca()\n",
    "ax.plot(lambdas*2, coefficients)\n",
    "ax.set_xscale('log')\n",
    "plt.axis('tight')\n",
    "plt.xlabel('alpha')\n",
    "plt.ylabel('weights')"
   ]
  },
  {
   "cell_type": "code",
   "execution_count": 94,
   "metadata": {},
   "outputs": [
    {
     "data": {
      "text/plain": [
       "array([5.3914444 , 5.17216596, 5.60500538, 5.5182095 , 5.70518977,\n",
       "       5.34359887, 5.04349325, 5.57085607, 5.50284059, 5.78901577,\n",
       "       6.11142218, 5.55688703, 5.4701742 , 5.35422954, 5.35040612,\n",
       "       6.22524262, 5.36528859, 5.51764712, 6.05247485, 5.34688756,\n",
       "       5.80830659, 5.28424723, 6.08602934, 6.26901198, 5.53709512,\n",
       "       5.42076898, 6.12608711, 5.57094478, 5.20918877, 5.64379558,\n",
       "       5.38148047, 5.49205553, 5.46628671, 5.62627388, 5.51929621,\n",
       "       5.19184806, 5.8692346 , 5.70787843, 5.73246003, 5.98514181,\n",
       "       5.62163508, 5.23806204, 5.76780324, 5.17908844, 5.48020009,\n",
       "       5.7116046 , 5.82265963, 5.46255061, 5.67758039, 5.67586208,\n",
       "       5.06189876, 5.19887642, 5.85100386, 6.02612365, 5.18728693,\n",
       "       5.08678905, 5.88850377, 5.49529504, 5.78169914, 5.47842811,\n",
       "       5.49118911, 5.77475509, 5.31310876, 5.30045421, 6.17109526,\n",
       "       5.33054485, 6.09630502, 5.41620208, 6.03518047, 5.31459687,\n",
       "       6.22162476, 5.22278555, 5.41505822, 5.86552513, 6.10047675,\n",
       "       5.39516757, 6.40172335, 5.64349997, 6.02356656, 5.92106912,\n",
       "       5.42531745, 6.14769873, 5.48759256, 5.79807501, 5.69732149,\n",
       "       6.15805716, 5.36535529, 5.8484401 , 5.90875444, 5.55463353,\n",
       "       6.04242728, 5.44089662, 5.90094414, 6.032766  , 5.01669373,\n",
       "       5.47863156, 5.3211161 , 5.58431217, 5.57329102, 5.57960263,\n",
       "       5.54361032, 5.4303504 , 5.80663481, 5.78554721, 5.79320557,\n",
       "       5.81423569, 5.44865381, 5.5067715 , 5.91077972, 5.21806609,\n",
       "       6.49357293, 5.24706024, 5.69866755, 5.00621744, 5.79003344,\n",
       "       5.6470034 , 6.326553  , 5.60016404, 5.26124324, 5.95770238,\n",
       "       5.96416273, 5.43701213, 5.51463679, 5.70389957, 5.41030433,\n",
       "       5.45180774, 5.79176848, 5.70486623, 5.63786178, 5.84365187,\n",
       "       5.41505822, 5.51810327, 5.24898307, 6.1040544 , 5.67586208,\n",
       "       5.40487101, 5.36356232, 5.25161863, 5.52090024, 5.71861649,\n",
       "       5.51794378, 5.60374286, 5.90229238, 5.73780893, 5.47421893,\n",
       "       5.32927541, 6.12676565, 5.77339212, 5.79438848, 5.11220875,\n",
       "       5.63690286, 5.97935339, 5.38686655, 5.64363143, 5.41505822,\n",
       "       5.62012971, 5.41429124, 5.61517993, 5.51104334, 5.81524461,\n",
       "       5.93423787, 5.53707658, 6.03270311, 5.18578821, 5.51795983,\n",
       "       5.60658397, 5.24210172, 5.32077749, 5.04648619, 5.12425566,\n",
       "       5.33177236, 5.45643374, 6.02505696, 5.55201283, 5.2585915 ,\n",
       "       5.78316441, 5.73373248, 5.33256203, 5.35068067, 5.67355455,\n",
       "       5.36648786, 5.90538913, 5.44839655, 6.29039441, 5.43984932,\n",
       "       6.33022822, 5.79944792, 5.79886482, 6.25692463, 5.55201283,\n",
       "       5.65528983, 5.79223657, 5.69717585, 6.26487852, 5.59034287,\n",
       "       5.41839498, 5.40066888, 5.35426019, 5.36481033, 5.81423569,\n",
       "       5.42500948, 5.31593175, 5.39656699, 5.3438559 , 6.21492165,\n",
       "       5.72582609, 5.24803382, 5.48327634, 5.23188283, 5.86469004,\n",
       "       6.02324326, 5.10274119, 5.50792284, 6.36393483, 6.1187054 ,\n",
       "       5.84959362, 5.31500289, 5.27722372, 5.99447758, 5.38723536,\n",
       "       5.31155693, 5.91004302, 6.13056958, 5.73247284, 5.89534456,\n",
       "       5.27165559, 5.31444134, 6.06712885, 5.32390985, 5.58296404,\n",
       "       5.26670512, 5.41045975, 6.19852502, 5.96711373, 6.02939767,\n",
       "       5.81423569, 5.609124  , 5.69732149, 5.33441746, 5.0996435 ,\n",
       "       5.53951624, 5.29504727, 5.91896656, 5.91689324, 5.33120861,\n",
       "       5.5839219 , 5.65062844, 5.52651962, 6.40131372, 5.21356821,\n",
       "       5.61765532, 5.66835269, 5.39160651, 5.57535728, 5.8950337 ,\n",
       "       5.20960862, 5.6768867 , 5.93513079, 5.69311323, 6.49307532,\n",
       "       6.03802063, 6.24389333, 5.33256203, 6.44942876, 5.69440849,\n",
       "       5.92717783, 5.31599029, 5.13461893, 5.86236037, 6.20134168,\n",
       "       5.38095015, 5.81684379, 5.34376212, 5.2202356 , 5.3698246 ,\n",
       "       5.50302068, 5.57811371, 6.09835691, 5.85538605, 5.40291005,\n",
       "       6.04009947, 5.41077153, 5.54078293, 5.45175485, 5.36056787,\n",
       "       6.17131765, 5.14641698, 5.60374286, 5.46075408, 6.10974179,\n",
       "       5.39830803, 6.39679696, 5.30774292, 5.52506987, 5.01843555,\n",
       "       6.18888647, 5.38829361, 6.13039041, 5.8216507 , 6.2005194 ,\n",
       "       5.4813095 , 5.43745779, 5.85416179, 5.23703399, 5.35693305,\n",
       "       5.39767639, 6.00929659, 5.72254807, 6.38535873, 6.10060555,\n",
       "       5.67962466, 5.7354212 , 5.4688763 , 5.65370547, 5.62627388,\n",
       "       5.8764874 , 5.42882122, 5.46094487, 5.94999321, 5.52432143,\n",
       "       5.84139813, 5.61095311, 5.60226061, 5.47298372, 5.43344945,\n",
       "       5.28353958, 6.00107228, 5.67336731, 5.08678905, 5.64379558,\n",
       "       6.03155846, 6.10060555, 5.24851299, 5.25758666, 5.45020565,\n",
       "       5.9212665 , 5.92184983, 5.6100336 , 5.22156992, 5.15776567,\n",
       "       6.09288476, 6.14878049, 5.90094414, 5.4821613 , 5.65942901,\n",
       "       5.37448621, 6.10047675, 5.47382664, 5.61748909, 5.71622669,\n",
       "       5.36458105, 6.19080815, 5.5379811 , 5.32776955, 5.64948181,\n",
       "       5.53778168, 5.49026254, 5.47657082, 5.8322678 , 5.75351138,\n",
       "       5.93502664, 5.50711473, 5.65392878, 5.67959816, 5.30031457,\n",
       "       5.71930974, 5.54353564, 5.30829115, 5.17856132, 5.36566985,\n",
       "       5.38155087, 5.45643374, 5.94392759, 5.91201747, 5.36810284,\n",
       "       5.98514181, 5.41180603, 5.78373867, 5.61262802, 5.39121406,\n",
       "       5.40292697, 6.0024333 , 6.052052  , 5.75391633, 5.91735747,\n",
       "       5.62518717, 5.80854854, 5.10457045, 5.18808238, 5.82072047,\n",
       "       5.64354189, 5.66990752, 5.45418566, 5.46189794, 6.06125508,\n",
       "       5.79748501, 6.03114631, 5.51929621, 5.38609542, 5.90966406])"
      ]
     },
     "execution_count": 94,
     "metadata": {},
     "output_type": "execute_result"
    }
   ],
   "source": [
    "# Prediction:\n",
    "lasso_model.predict(X_test)"
   ]
  },
  {
   "cell_type": "code",
   "execution_count": 95,
   "metadata": {},
   "outputs": [],
   "source": [
    "y_pred = lasso_model.predict(X_test)"
   ]
  },
  {
   "cell_type": "code",
   "execution_count": 96,
   "metadata": {},
   "outputs": [
    {
     "data": {
      "text/plain": [
       "0.6990916411472458"
      ]
     },
     "execution_count": 96,
     "metadata": {},
     "output_type": "execute_result"
    }
   ],
   "source": [
    "np.sqrt(mean_squared_error(y_test, y_pred))"
   ]
  },
  {
   "cell_type": "code",
   "execution_count": 97,
   "metadata": {},
   "outputs": [],
   "source": [
    "# Model Tuning:\n",
    "from sklearn.linear_model import LassoCV\n",
    "lasso_cv_model = LassoCV(alphas = None, \n",
    "                         cv = 10, \n",
    "                         max_iter = 10000, \n",
    "                         normalize = True)"
   ]
  },
  {
   "cell_type": "code",
   "execution_count": 98,
   "metadata": {},
   "outputs": [
    {
     "data": {
      "text/plain": [
       "LassoCV(cv=10, max_iter=10000, normalize=True)"
      ]
     },
     "execution_count": 98,
     "metadata": {},
     "output_type": "execute_result"
    }
   ],
   "source": [
    "lasso_cv_model.fit(X_train,y_train)"
   ]
  },
  {
   "cell_type": "code",
   "execution_count": 99,
   "metadata": {},
   "outputs": [
    {
     "data": {
      "text/plain": [
       "0.0002643428783691967"
      ]
     },
     "execution_count": 99,
     "metadata": {},
     "output_type": "execute_result"
    }
   ],
   "source": [
    "lasso_cv_model.alpha_"
   ]
  },
  {
   "cell_type": "code",
   "execution_count": 101,
   "metadata": {},
   "outputs": [],
   "source": [
    "#Lasso Final Model:\n",
    "lasso_tuned = Lasso(alpha = lasso_cv_model.alpha_)"
   ]
  },
  {
   "cell_type": "code",
   "execution_count": 102,
   "metadata": {},
   "outputs": [
    {
     "data": {
      "text/plain": [
       "Lasso(alpha=0.0002643428783691967)"
      ]
     },
     "execution_count": 102,
     "metadata": {},
     "output_type": "execute_result"
    }
   ],
   "source": [
    "lasso_tuned.fit(X_train, y_train)"
   ]
  },
  {
   "cell_type": "code",
   "execution_count": 103,
   "metadata": {},
   "outputs": [],
   "source": [
    "# Examining the Final Model's test failure/error:\n",
    "y_pred = lasso_tuned.predict(X_test)"
   ]
  },
  {
   "cell_type": "code",
   "execution_count": 104,
   "metadata": {},
   "outputs": [
    {
     "data": {
      "text/plain": [
       "0.6240632683765854"
      ]
     },
     "execution_count": 104,
     "metadata": {},
     "output_type": "execute_result"
    }
   ],
   "source": [
    "np.sqrt(mean_squared_error(y_test, y_pred))"
   ]
  },
  {
   "cell_type": "markdown",
   "metadata": {
    "tags": []
   },
   "source": [
    "* Ridge regressor to extract coefficients\n",
    "* SequentialFeatureSelection using the Lasso to select four features\n",
    "* RFE using the Lasso to select four features"
   ]
  },
  {
   "cell_type": "code",
   "execution_count": 55,
   "metadata": {},
   "outputs": [
    {
     "data": {
      "text/html": [
       "<div>\n",
       "<style scoped>\n",
       "    .dataframe tbody tr th:only-of-type {\n",
       "        vertical-align: middle;\n",
       "    }\n",
       "\n",
       "    .dataframe tbody tr th {\n",
       "        vertical-align: top;\n",
       "    }\n",
       "\n",
       "    .dataframe thead th {\n",
       "        text-align: right;\n",
       "    }\n",
       "</style>\n",
       "<table border=\"1\" class=\"dataframe\">\n",
       "  <thead>\n",
       "    <tr style=\"text-align: right;\">\n",
       "      <th></th>\n",
       "      <th>fixed acidity</th>\n",
       "      <th>volatile acidity</th>\n",
       "      <th>citric acid</th>\n",
       "      <th>residual sugar</th>\n",
       "      <th>chlorides</th>\n",
       "      <th>fixed acidity^2</th>\n",
       "      <th>fixed acidity volatile acidity</th>\n",
       "      <th>fixed acidity citric acid</th>\n",
       "      <th>fixed acidity residual sugar</th>\n",
       "      <th>fixed acidity chlorides</th>\n",
       "      <th>...</th>\n",
       "      <th>citric acid residual sugar chlorides^4</th>\n",
       "      <th>citric acid chlorides^5</th>\n",
       "      <th>residual sugar^6</th>\n",
       "      <th>residual sugar^5 chlorides</th>\n",
       "      <th>residual sugar^4 chlorides^2</th>\n",
       "      <th>residual sugar^3 chlorides^3</th>\n",
       "      <th>residual sugar^2 chlorides^4</th>\n",
       "      <th>residual sugar chlorides^5</th>\n",
       "      <th>chlorides^6</th>\n",
       "      <th>target_log</th>\n",
       "    </tr>\n",
       "  </thead>\n",
       "  <tbody>\n",
       "    <tr>\n",
       "      <th>0</th>\n",
       "      <td>11.7</td>\n",
       "      <td>0.490</td>\n",
       "      <td>0.49</td>\n",
       "      <td>2.2</td>\n",
       "      <td>0.083</td>\n",
       "      <td>136.89</td>\n",
       "      <td>5.7330</td>\n",
       "      <td>5.733</td>\n",
       "      <td>25.74</td>\n",
       "      <td>0.9711</td>\n",
       "      <td>...</td>\n",
       "      <td>0.000051</td>\n",
       "      <td>1.930130e-06</td>\n",
       "      <td>113.379904</td>\n",
       "      <td>4.277515</td>\n",
       "      <td>0.161379</td>\n",
       "      <td>0.006088</td>\n",
       "      <td>0.000230</td>\n",
       "      <td>0.000009</td>\n",
       "      <td>3.269404e-07</td>\n",
       "      <td>5</td>\n",
       "    </tr>\n",
       "    <tr>\n",
       "      <th>1</th>\n",
       "      <td>8.8</td>\n",
       "      <td>0.600</td>\n",
       "      <td>0.29</td>\n",
       "      <td>2.2</td>\n",
       "      <td>0.098</td>\n",
       "      <td>77.44</td>\n",
       "      <td>5.2800</td>\n",
       "      <td>2.552</td>\n",
       "      <td>19.36</td>\n",
       "      <td>0.8624</td>\n",
       "      <td>...</td>\n",
       "      <td>0.000059</td>\n",
       "      <td>2.621370e-06</td>\n",
       "      <td>113.379904</td>\n",
       "      <td>5.050559</td>\n",
       "      <td>0.224979</td>\n",
       "      <td>0.010022</td>\n",
       "      <td>0.000446</td>\n",
       "      <td>0.000020</td>\n",
       "      <td>8.858424e-07</td>\n",
       "      <td>5</td>\n",
       "    </tr>\n",
       "    <tr>\n",
       "      <th>2</th>\n",
       "      <td>7.1</td>\n",
       "      <td>0.590</td>\n",
       "      <td>0.00</td>\n",
       "      <td>2.1</td>\n",
       "      <td>0.091</td>\n",
       "      <td>50.41</td>\n",
       "      <td>4.1890</td>\n",
       "      <td>0.000</td>\n",
       "      <td>14.91</td>\n",
       "      <td>0.6461</td>\n",
       "      <td>...</td>\n",
       "      <td>0.000000</td>\n",
       "      <td>0.000000e+00</td>\n",
       "      <td>85.766121</td>\n",
       "      <td>3.716532</td>\n",
       "      <td>0.161050</td>\n",
       "      <td>0.006979</td>\n",
       "      <td>0.000302</td>\n",
       "      <td>0.000013</td>\n",
       "      <td>5.678693e-07</td>\n",
       "      <td>7</td>\n",
       "    </tr>\n",
       "    <tr>\n",
       "      <th>3</th>\n",
       "      <td>8.3</td>\n",
       "      <td>0.540</td>\n",
       "      <td>0.24</td>\n",
       "      <td>3.4</td>\n",
       "      <td>0.076</td>\n",
       "      <td>68.89</td>\n",
       "      <td>4.4820</td>\n",
       "      <td>1.992</td>\n",
       "      <td>28.22</td>\n",
       "      <td>0.6308</td>\n",
       "      <td>...</td>\n",
       "      <td>0.000027</td>\n",
       "      <td>6.085261e-07</td>\n",
       "      <td>1544.804416</td>\n",
       "      <td>34.530922</td>\n",
       "      <td>0.771868</td>\n",
       "      <td>0.017254</td>\n",
       "      <td>0.000386</td>\n",
       "      <td>0.000009</td>\n",
       "      <td>1.926999e-07</td>\n",
       "      <td>5</td>\n",
       "    </tr>\n",
       "    <tr>\n",
       "      <th>4</th>\n",
       "      <td>9.3</td>\n",
       "      <td>0.775</td>\n",
       "      <td>0.27</td>\n",
       "      <td>2.8</td>\n",
       "      <td>0.078</td>\n",
       "      <td>86.49</td>\n",
       "      <td>7.2075</td>\n",
       "      <td>2.511</td>\n",
       "      <td>26.04</td>\n",
       "      <td>0.7254</td>\n",
       "      <td>...</td>\n",
       "      <td>0.000028</td>\n",
       "      <td>7.795371e-07</td>\n",
       "      <td>481.890304</td>\n",
       "      <td>13.424087</td>\n",
       "      <td>0.373957</td>\n",
       "      <td>0.010417</td>\n",
       "      <td>0.000290</td>\n",
       "      <td>0.000008</td>\n",
       "      <td>2.251996e-07</td>\n",
       "      <td>6</td>\n",
       "    </tr>\n",
       "  </tbody>\n",
       "</table>\n",
       "<p>5 rows × 462 columns</p>\n",
       "</div>"
      ],
      "text/plain": [
       "   fixed acidity  volatile acidity  citric acid  residual sugar  chlorides  \\\n",
       "0           11.7             0.490         0.49             2.2      0.083   \n",
       "1            8.8             0.600         0.29             2.2      0.098   \n",
       "2            7.1             0.590         0.00             2.1      0.091   \n",
       "3            8.3             0.540         0.24             3.4      0.076   \n",
       "4            9.3             0.775         0.27             2.8      0.078   \n",
       "\n",
       "   fixed acidity^2  fixed acidity volatile acidity  fixed acidity citric acid  \\\n",
       "0           136.89                          5.7330                      5.733   \n",
       "1            77.44                          5.2800                      2.552   \n",
       "2            50.41                          4.1890                      0.000   \n",
       "3            68.89                          4.4820                      1.992   \n",
       "4            86.49                          7.2075                      2.511   \n",
       "\n",
       "   fixed acidity residual sugar  fixed acidity chlorides  ...  \\\n",
       "0                         25.74                   0.9711  ...   \n",
       "1                         19.36                   0.8624  ...   \n",
       "2                         14.91                   0.6461  ...   \n",
       "3                         28.22                   0.6308  ...   \n",
       "4                         26.04                   0.7254  ...   \n",
       "\n",
       "   citric acid residual sugar chlorides^4  citric acid chlorides^5  \\\n",
       "0                                0.000051             1.930130e-06   \n",
       "1                                0.000059             2.621370e-06   \n",
       "2                                0.000000             0.000000e+00   \n",
       "3                                0.000027             6.085261e-07   \n",
       "4                                0.000028             7.795371e-07   \n",
       "\n",
       "   residual sugar^6  residual sugar^5 chlorides  residual sugar^4 chlorides^2  \\\n",
       "0        113.379904                    4.277515                      0.161379   \n",
       "1        113.379904                    5.050559                      0.224979   \n",
       "2         85.766121                    3.716532                      0.161050   \n",
       "3       1544.804416                   34.530922                      0.771868   \n",
       "4        481.890304                   13.424087                      0.373957   \n",
       "\n",
       "   residual sugar^3 chlorides^3  residual sugar^2 chlorides^4  \\\n",
       "0                      0.006088                      0.000230   \n",
       "1                      0.010022                      0.000446   \n",
       "2                      0.006979                      0.000302   \n",
       "3                      0.017254                      0.000386   \n",
       "4                      0.010417                      0.000290   \n",
       "\n",
       "   residual sugar chlorides^5   chlorides^6  target_log  \n",
       "0                    0.000009  3.269404e-07           5  \n",
       "1                    0.000020  8.858424e-07           5  \n",
       "2                    0.000013  5.678693e-07           7  \n",
       "3                    0.000009  1.926999e-07           5  \n",
       "4                    0.000008  2.251996e-07           6  \n",
       "\n",
       "[5 rows x 462 columns]"
      ]
     },
     "execution_count": 55,
     "metadata": {},
     "output_type": "execute_result"
    }
   ],
   "source": [
    "# Building PolynomialFeatures\n",
    "poly_features = PolynomialFeatures(degree = 6, include_bias=False)\n",
    "X_train_poly = poly_features.fit_transform(X_train[['fixed acidity', 'volatile acidity', 'citric acid','residual sugar','chlorides']])\n",
    "X_test_poly = poly_features.fit_transform(X_test[['fixed acidity', 'volatile acidity', 'citric acid','residual sugar','chlorides']])\n",
    "columns = poly_features.get_feature_names_out()\n",
    "train_df = pd.DataFrame(X_train_poly, columns=columns)\n",
    "test_df = pd.DataFrame(X_test_poly, columns = columns)\n",
    "\n",
    "\n",
    "train_df['target_log'] = y_train.values\n",
    "test_df['target_log'] = y_test.values\n",
    "\n",
    "\n",
    "\n",
    "train_df.head()"
   ]
  },
  {
   "cell_type": "code",
   "execution_count": 56,
   "metadata": {},
   "outputs": [
    {
     "data": {
      "text/html": [
       "<div>\n",
       "<style scoped>\n",
       "    .dataframe tbody tr th:only-of-type {\n",
       "        vertical-align: middle;\n",
       "    }\n",
       "\n",
       "    .dataframe tbody tr th {\n",
       "        vertical-align: top;\n",
       "    }\n",
       "\n",
       "    .dataframe thead th {\n",
       "        text-align: right;\n",
       "    }\n",
       "</style>\n",
       "<table border=\"1\" class=\"dataframe\">\n",
       "  <thead>\n",
       "    <tr style=\"text-align: right;\">\n",
       "      <th></th>\n",
       "      <th>fixed acidity</th>\n",
       "      <th>volatile acidity</th>\n",
       "      <th>citric acid</th>\n",
       "      <th>residual sugar</th>\n",
       "      <th>chlorides</th>\n",
       "      <th>fixed acidity^2</th>\n",
       "      <th>fixed acidity volatile acidity</th>\n",
       "      <th>fixed acidity citric acid</th>\n",
       "      <th>fixed acidity residual sugar</th>\n",
       "      <th>fixed acidity chlorides</th>\n",
       "      <th>...</th>\n",
       "      <th>citric acid residual sugar chlorides^4</th>\n",
       "      <th>citric acid chlorides^5</th>\n",
       "      <th>residual sugar^6</th>\n",
       "      <th>residual sugar^5 chlorides</th>\n",
       "      <th>residual sugar^4 chlorides^2</th>\n",
       "      <th>residual sugar^3 chlorides^3</th>\n",
       "      <th>residual sugar^2 chlorides^4</th>\n",
       "      <th>residual sugar chlorides^5</th>\n",
       "      <th>chlorides^6</th>\n",
       "      <th>target_log</th>\n",
       "    </tr>\n",
       "  </thead>\n",
       "  <tbody>\n",
       "    <tr>\n",
       "      <th>0</th>\n",
       "      <td>7.7</td>\n",
       "      <td>0.56</td>\n",
       "      <td>0.08</td>\n",
       "      <td>2.50</td>\n",
       "      <td>0.114</td>\n",
       "      <td>59.29</td>\n",
       "      <td>4.312</td>\n",
       "      <td>0.616</td>\n",
       "      <td>19.250</td>\n",
       "      <td>0.8778</td>\n",
       "      <td>...</td>\n",
       "      <td>3.377920e-05</td>\n",
       "      <td>1.540332e-06</td>\n",
       "      <td>244.140625</td>\n",
       "      <td>11.132813</td>\n",
       "      <td>0.507656</td>\n",
       "      <td>0.023149</td>\n",
       "      <td>0.001056</td>\n",
       "      <td>0.000048</td>\n",
       "      <td>2.194973e-06</td>\n",
       "      <td>6</td>\n",
       "    </tr>\n",
       "    <tr>\n",
       "      <th>1</th>\n",
       "      <td>7.8</td>\n",
       "      <td>0.50</td>\n",
       "      <td>0.17</td>\n",
       "      <td>1.60</td>\n",
       "      <td>0.082</td>\n",
       "      <td>60.84</td>\n",
       "      <td>3.900</td>\n",
       "      <td>1.326</td>\n",
       "      <td>12.480</td>\n",
       "      <td>0.6396</td>\n",
       "      <td>...</td>\n",
       "      <td>1.229771e-05</td>\n",
       "      <td>6.302577e-07</td>\n",
       "      <td>16.777216</td>\n",
       "      <td>0.859832</td>\n",
       "      <td>0.044066</td>\n",
       "      <td>0.002258</td>\n",
       "      <td>0.000116</td>\n",
       "      <td>0.000006</td>\n",
       "      <td>3.040067e-07</td>\n",
       "      <td>5</td>\n",
       "    </tr>\n",
       "    <tr>\n",
       "      <th>2</th>\n",
       "      <td>10.7</td>\n",
       "      <td>0.67</td>\n",
       "      <td>0.22</td>\n",
       "      <td>2.70</td>\n",
       "      <td>0.107</td>\n",
       "      <td>114.49</td>\n",
       "      <td>7.169</td>\n",
       "      <td>2.354</td>\n",
       "      <td>28.890</td>\n",
       "      <td>1.1449</td>\n",
       "      <td>...</td>\n",
       "      <td>7.786128e-05</td>\n",
       "      <td>3.085614e-06</td>\n",
       "      <td>387.420489</td>\n",
       "      <td>15.353330</td>\n",
       "      <td>0.608447</td>\n",
       "      <td>0.024113</td>\n",
       "      <td>0.000956</td>\n",
       "      <td>0.000038</td>\n",
       "      <td>1.500730e-06</td>\n",
       "      <td>6</td>\n",
       "    </tr>\n",
       "    <tr>\n",
       "      <th>3</th>\n",
       "      <td>8.5</td>\n",
       "      <td>0.46</td>\n",
       "      <td>0.31</td>\n",
       "      <td>2.25</td>\n",
       "      <td>0.078</td>\n",
       "      <td>72.25</td>\n",
       "      <td>3.910</td>\n",
       "      <td>2.635</td>\n",
       "      <td>19.125</td>\n",
       "      <td>0.6630</td>\n",
       "      <td>...</td>\n",
       "      <td>2.581800e-05</td>\n",
       "      <td>8.950241e-07</td>\n",
       "      <td>129.746338</td>\n",
       "      <td>4.497873</td>\n",
       "      <td>0.155926</td>\n",
       "      <td>0.005405</td>\n",
       "      <td>0.000187</td>\n",
       "      <td>0.000006</td>\n",
       "      <td>2.251996e-07</td>\n",
       "      <td>5</td>\n",
       "    </tr>\n",
       "    <tr>\n",
       "      <th>4</th>\n",
       "      <td>6.7</td>\n",
       "      <td>0.46</td>\n",
       "      <td>0.24</td>\n",
       "      <td>1.70</td>\n",
       "      <td>0.077</td>\n",
       "      <td>44.89</td>\n",
       "      <td>3.082</td>\n",
       "      <td>1.608</td>\n",
       "      <td>11.390</td>\n",
       "      <td>0.5159</td>\n",
       "      <td>...</td>\n",
       "      <td>1.434244e-05</td>\n",
       "      <td>6.496282e-07</td>\n",
       "      <td>24.137569</td>\n",
       "      <td>1.093290</td>\n",
       "      <td>0.049520</td>\n",
       "      <td>0.002243</td>\n",
       "      <td>0.000102</td>\n",
       "      <td>0.000005</td>\n",
       "      <td>2.084224e-07</td>\n",
       "      <td>6</td>\n",
       "    </tr>\n",
       "    <tr>\n",
       "      <th>...</th>\n",
       "      <td>...</td>\n",
       "      <td>...</td>\n",
       "      <td>...</td>\n",
       "      <td>...</td>\n",
       "      <td>...</td>\n",
       "      <td>...</td>\n",
       "      <td>...</td>\n",
       "      <td>...</td>\n",
       "      <td>...</td>\n",
       "      <td>...</td>\n",
       "      <td>...</td>\n",
       "      <td>...</td>\n",
       "      <td>...</td>\n",
       "      <td>...</td>\n",
       "      <td>...</td>\n",
       "      <td>...</td>\n",
       "      <td>...</td>\n",
       "      <td>...</td>\n",
       "      <td>...</td>\n",
       "      <td>...</td>\n",
       "      <td>...</td>\n",
       "    </tr>\n",
       "    <tr>\n",
       "      <th>395</th>\n",
       "      <td>6.7</td>\n",
       "      <td>0.67</td>\n",
       "      <td>0.02</td>\n",
       "      <td>1.90</td>\n",
       "      <td>0.061</td>\n",
       "      <td>44.89</td>\n",
       "      <td>4.489</td>\n",
       "      <td>0.134</td>\n",
       "      <td>12.730</td>\n",
       "      <td>0.4087</td>\n",
       "      <td>...</td>\n",
       "      <td>5.261420e-07</td>\n",
       "      <td>1.689193e-08</td>\n",
       "      <td>47.045881</td>\n",
       "      <td>1.510420</td>\n",
       "      <td>0.048492</td>\n",
       "      <td>0.001557</td>\n",
       "      <td>0.000050</td>\n",
       "      <td>0.000002</td>\n",
       "      <td>5.152037e-08</td>\n",
       "      <td>6</td>\n",
       "    </tr>\n",
       "    <tr>\n",
       "      <th>396</th>\n",
       "      <td>10.3</td>\n",
       "      <td>0.44</td>\n",
       "      <td>0.50</td>\n",
       "      <td>4.50</td>\n",
       "      <td>0.107</td>\n",
       "      <td>106.09</td>\n",
       "      <td>4.532</td>\n",
       "      <td>5.150</td>\n",
       "      <td>46.350</td>\n",
       "      <td>1.1021</td>\n",
       "      <td>...</td>\n",
       "      <td>2.949291e-04</td>\n",
       "      <td>7.012759e-06</td>\n",
       "      <td>8303.765625</td>\n",
       "      <td>197.445094</td>\n",
       "      <td>4.694806</td>\n",
       "      <td>0.111632</td>\n",
       "      <td>0.002654</td>\n",
       "      <td>0.000063</td>\n",
       "      <td>1.500730e-06</td>\n",
       "      <td>5</td>\n",
       "    </tr>\n",
       "    <tr>\n",
       "      <th>397</th>\n",
       "      <td>7.1</td>\n",
       "      <td>0.60</td>\n",
       "      <td>0.00</td>\n",
       "      <td>1.80</td>\n",
       "      <td>0.074</td>\n",
       "      <td>50.41</td>\n",
       "      <td>4.260</td>\n",
       "      <td>0.000</td>\n",
       "      <td>12.780</td>\n",
       "      <td>0.5254</td>\n",
       "      <td>...</td>\n",
       "      <td>0.000000e+00</td>\n",
       "      <td>0.000000e+00</td>\n",
       "      <td>34.012224</td>\n",
       "      <td>1.398280</td>\n",
       "      <td>0.057485</td>\n",
       "      <td>0.002363</td>\n",
       "      <td>0.000097</td>\n",
       "      <td>0.000004</td>\n",
       "      <td>1.642065e-07</td>\n",
       "      <td>6</td>\n",
       "    </tr>\n",
       "    <tr>\n",
       "      <th>398</th>\n",
       "      <td>7.8</td>\n",
       "      <td>0.62</td>\n",
       "      <td>0.05</td>\n",
       "      <td>2.30</td>\n",
       "      <td>0.079</td>\n",
       "      <td>60.84</td>\n",
       "      <td>4.836</td>\n",
       "      <td>0.390</td>\n",
       "      <td>17.940</td>\n",
       "      <td>0.6162</td>\n",
       "      <td>...</td>\n",
       "      <td>4.479259e-06</td>\n",
       "      <td>1.538528e-07</td>\n",
       "      <td>148.035889</td>\n",
       "      <td>5.084711</td>\n",
       "      <td>0.174649</td>\n",
       "      <td>0.005999</td>\n",
       "      <td>0.000206</td>\n",
       "      <td>0.000007</td>\n",
       "      <td>2.430875e-07</td>\n",
       "      <td>5</td>\n",
       "    </tr>\n",
       "    <tr>\n",
       "      <th>399</th>\n",
       "      <td>10.6</td>\n",
       "      <td>0.36</td>\n",
       "      <td>0.57</td>\n",
       "      <td>2.30</td>\n",
       "      <td>0.087</td>\n",
       "      <td>112.36</td>\n",
       "      <td>3.816</td>\n",
       "      <td>6.042</td>\n",
       "      <td>24.380</td>\n",
       "      <td>0.9222</td>\n",
       "      <td>...</td>\n",
       "      <td>7.510688e-05</td>\n",
       "      <td>2.840999e-06</td>\n",
       "      <td>148.035889</td>\n",
       "      <td>5.599618</td>\n",
       "      <td>0.211812</td>\n",
       "      <td>0.008012</td>\n",
       "      <td>0.000303</td>\n",
       "      <td>0.000011</td>\n",
       "      <td>4.336262e-07</td>\n",
       "      <td>7</td>\n",
       "    </tr>\n",
       "  </tbody>\n",
       "</table>\n",
       "<p>400 rows × 462 columns</p>\n",
       "</div>"
      ],
      "text/plain": [
       "     fixed acidity  volatile acidity  citric acid  residual sugar  chlorides  \\\n",
       "0              7.7              0.56         0.08            2.50      0.114   \n",
       "1              7.8              0.50         0.17            1.60      0.082   \n",
       "2             10.7              0.67         0.22            2.70      0.107   \n",
       "3              8.5              0.46         0.31            2.25      0.078   \n",
       "4              6.7              0.46         0.24            1.70      0.077   \n",
       "..             ...               ...          ...             ...        ...   \n",
       "395            6.7              0.67         0.02            1.90      0.061   \n",
       "396           10.3              0.44         0.50            4.50      0.107   \n",
       "397            7.1              0.60         0.00            1.80      0.074   \n",
       "398            7.8              0.62         0.05            2.30      0.079   \n",
       "399           10.6              0.36         0.57            2.30      0.087   \n",
       "\n",
       "     fixed acidity^2  fixed acidity volatile acidity  \\\n",
       "0              59.29                           4.312   \n",
       "1              60.84                           3.900   \n",
       "2             114.49                           7.169   \n",
       "3              72.25                           3.910   \n",
       "4              44.89                           3.082   \n",
       "..               ...                             ...   \n",
       "395            44.89                           4.489   \n",
       "396           106.09                           4.532   \n",
       "397            50.41                           4.260   \n",
       "398            60.84                           4.836   \n",
       "399           112.36                           3.816   \n",
       "\n",
       "     fixed acidity citric acid  fixed acidity residual sugar  \\\n",
       "0                        0.616                        19.250   \n",
       "1                        1.326                        12.480   \n",
       "2                        2.354                        28.890   \n",
       "3                        2.635                        19.125   \n",
       "4                        1.608                        11.390   \n",
       "..                         ...                           ...   \n",
       "395                      0.134                        12.730   \n",
       "396                      5.150                        46.350   \n",
       "397                      0.000                        12.780   \n",
       "398                      0.390                        17.940   \n",
       "399                      6.042                        24.380   \n",
       "\n",
       "     fixed acidity chlorides  ...  citric acid residual sugar chlorides^4  \\\n",
       "0                     0.8778  ...                            3.377920e-05   \n",
       "1                     0.6396  ...                            1.229771e-05   \n",
       "2                     1.1449  ...                            7.786128e-05   \n",
       "3                     0.6630  ...                            2.581800e-05   \n",
       "4                     0.5159  ...                            1.434244e-05   \n",
       "..                       ...  ...                                     ...   \n",
       "395                   0.4087  ...                            5.261420e-07   \n",
       "396                   1.1021  ...                            2.949291e-04   \n",
       "397                   0.5254  ...                            0.000000e+00   \n",
       "398                   0.6162  ...                            4.479259e-06   \n",
       "399                   0.9222  ...                            7.510688e-05   \n",
       "\n",
       "     citric acid chlorides^5  residual sugar^6  residual sugar^5 chlorides  \\\n",
       "0               1.540332e-06        244.140625                   11.132813   \n",
       "1               6.302577e-07         16.777216                    0.859832   \n",
       "2               3.085614e-06        387.420489                   15.353330   \n",
       "3               8.950241e-07        129.746338                    4.497873   \n",
       "4               6.496282e-07         24.137569                    1.093290   \n",
       "..                       ...               ...                         ...   \n",
       "395             1.689193e-08         47.045881                    1.510420   \n",
       "396             7.012759e-06       8303.765625                  197.445094   \n",
       "397             0.000000e+00         34.012224                    1.398280   \n",
       "398             1.538528e-07        148.035889                    5.084711   \n",
       "399             2.840999e-06        148.035889                    5.599618   \n",
       "\n",
       "     residual sugar^4 chlorides^2  residual sugar^3 chlorides^3  \\\n",
       "0                        0.507656                      0.023149   \n",
       "1                        0.044066                      0.002258   \n",
       "2                        0.608447                      0.024113   \n",
       "3                        0.155926                      0.005405   \n",
       "4                        0.049520                      0.002243   \n",
       "..                            ...                           ...   \n",
       "395                      0.048492                      0.001557   \n",
       "396                      4.694806                      0.111632   \n",
       "397                      0.057485                      0.002363   \n",
       "398                      0.174649                      0.005999   \n",
       "399                      0.211812                      0.008012   \n",
       "\n",
       "     residual sugar^2 chlorides^4  residual sugar chlorides^5   chlorides^6  \\\n",
       "0                        0.001056                    0.000048  2.194973e-06   \n",
       "1                        0.000116                    0.000006  3.040067e-07   \n",
       "2                        0.000956                    0.000038  1.500730e-06   \n",
       "3                        0.000187                    0.000006  2.251996e-07   \n",
       "4                        0.000102                    0.000005  2.084224e-07   \n",
       "..                            ...                         ...           ...   \n",
       "395                      0.000050                    0.000002  5.152037e-08   \n",
       "396                      0.002654                    0.000063  1.500730e-06   \n",
       "397                      0.000097                    0.000004  1.642065e-07   \n",
       "398                      0.000206                    0.000007  2.430875e-07   \n",
       "399                      0.000303                    0.000011  4.336262e-07   \n",
       "\n",
       "     target_log  \n",
       "0             6  \n",
       "1             5  \n",
       "2             6  \n",
       "3             5  \n",
       "4             6  \n",
       "..          ...  \n",
       "395           6  \n",
       "396           5  \n",
       "397           6  \n",
       "398           5  \n",
       "399           7  \n",
       "\n",
       "[400 rows x 462 columns]"
      ]
     },
     "execution_count": 56,
     "metadata": {},
     "output_type": "execute_result"
    }
   ],
   "source": [
    "test_df"
   ]
  },
  {
   "cell_type": "code",
   "execution_count": 71,
   "metadata": {},
   "outputs": [
    {
     "data": {
      "text/html": [
       "<div>\n",
       "<style scoped>\n",
       "    .dataframe tbody tr th:only-of-type {\n",
       "        vertical-align: middle;\n",
       "    }\n",
       "\n",
       "    .dataframe tbody tr th {\n",
       "        vertical-align: top;\n",
       "    }\n",
       "\n",
       "    .dataframe thead th {\n",
       "        text-align: right;\n",
       "    }\n",
       "</style>\n",
       "<table border=\"1\" class=\"dataframe\">\n",
       "  <thead>\n",
       "    <tr style=\"text-align: right;\">\n",
       "      <th></th>\n",
       "      <th>fixed acidity</th>\n",
       "      <th>volatile acidity</th>\n",
       "      <th>citric acid</th>\n",
       "      <th>residual sugar</th>\n",
       "      <th>chlorides</th>\n",
       "      <th>target_log</th>\n",
       "    </tr>\n",
       "  </thead>\n",
       "  <tbody>\n",
       "    <tr>\n",
       "      <th>0</th>\n",
       "      <td>11.7</td>\n",
       "      <td>0.490</td>\n",
       "      <td>0.49</td>\n",
       "      <td>2.2</td>\n",
       "      <td>0.083</td>\n",
       "      <td>5.0</td>\n",
       "    </tr>\n",
       "    <tr>\n",
       "      <th>1</th>\n",
       "      <td>8.8</td>\n",
       "      <td>0.600</td>\n",
       "      <td>0.29</td>\n",
       "      <td>2.2</td>\n",
       "      <td>0.098</td>\n",
       "      <td>5.0</td>\n",
       "    </tr>\n",
       "    <tr>\n",
       "      <th>2</th>\n",
       "      <td>7.1</td>\n",
       "      <td>0.590</td>\n",
       "      <td>0.00</td>\n",
       "      <td>2.1</td>\n",
       "      <td>0.091</td>\n",
       "      <td>7.0</td>\n",
       "    </tr>\n",
       "    <tr>\n",
       "      <th>3</th>\n",
       "      <td>8.3</td>\n",
       "      <td>0.540</td>\n",
       "      <td>0.24</td>\n",
       "      <td>3.4</td>\n",
       "      <td>0.076</td>\n",
       "      <td>5.0</td>\n",
       "    </tr>\n",
       "    <tr>\n",
       "      <th>4</th>\n",
       "      <td>9.3</td>\n",
       "      <td>0.775</td>\n",
       "      <td>0.27</td>\n",
       "      <td>2.8</td>\n",
       "      <td>0.078</td>\n",
       "      <td>6.0</td>\n",
       "    </tr>\n",
       "  </tbody>\n",
       "</table>\n",
       "</div>"
      ],
      "text/plain": [
       "   fixed acidity  volatile acidity  citric acid  residual sugar  chlorides  \\\n",
       "0           11.7             0.490         0.49             2.2      0.083   \n",
       "1            8.8             0.600         0.29             2.2      0.098   \n",
       "2            7.1             0.590         0.00             2.1      0.091   \n",
       "3            8.3             0.540         0.24             3.4      0.076   \n",
       "4            9.3             0.775         0.27             2.8      0.078   \n",
       "\n",
       "   target_log  \n",
       "0         5.0  \n",
       "1         5.0  \n",
       "2         7.0  \n",
       "3         5.0  \n",
       "4         6.0  "
      ]
     },
     "execution_count": 71,
     "metadata": {},
     "output_type": "execute_result"
    }
   ],
   "source": [
    "# Using SequentialFeatureSelector\n",
    "selector = SequentialFeatureSelector(LinearRegression(), n_features_to_select=6)\n",
    "best_features = selector.fit_transform(train_df, y_train)\n",
    "best_features_df = pd.DataFrame(best_features, columns = selector.get_feature_names_out())\n",
    "\n",
    "best_features_df.head()"
   ]
  },
  {
   "cell_type": "code",
   "execution_count": 74,
   "metadata": {},
   "outputs": [
    {
     "name": "stdout",
     "output_type": "stream",
     "text": [
      "Train MSE:  0.00\n",
      "Test MSE:  0.00\n"
     ]
    },
    {
     "data": {
      "text/plain": [
       "Pipeline(steps=[('column_selector',\n",
       "                 SequentialFeatureSelector(estimator=LinearRegression(),\n",
       "                                           n_features_to_select=6)),\n",
       "                ('linreg', LinearRegression())])"
      ]
     },
     "execution_count": 74,
     "metadata": {},
     "output_type": "execute_result"
    }
   ],
   "source": [
    "from sklearn.pipeline import Pipeline\n",
    "from sklearn.preprocessing import PolynomialFeatures\n",
    "from sklearn.preprocessing import StandardScaler\n",
    "\n",
    "# Pipeline for regression model\n",
    "pipe = Pipeline([('column_selector', selector),\n",
    "                ('linreg', LinearRegression())])\n",
    "pipe.fit(train_df, y_train)\n",
    "train_preds = pipe.predict(train_df)\n",
    "test_preds = pipe.predict(test_df)\n",
    "train_mse = mean_squared_error(y_train, train_preds)\n",
    "test_mse = mean_squared_error(y_test, test_preds)\n",
    "\n",
    "print(f'Train MSE: {train_mse: .2f}')\n",
    "print(f'Test MSE: {test_mse: .2f}')\n",
    "pipe"
   ]
  },
  {
   "cell_type": "code",
   "execution_count": 75,
   "metadata": {},
   "outputs": [],
   "source": [
    "scaler = StandardScaler()\n",
    "X_train_scaled = scaler.fit_transform(X_train)\n",
    "X_test_scaled = scaler.transform(X_test)"
   ]
  },
  {
   "cell_type": "code",
   "execution_count": 64,
   "metadata": {
    "jupyter": {
     "source_hidden": true
    },
    "tags": []
   },
   "outputs": [
    {
     "name": "stdout",
     "output_type": "stream",
     "text": [
      "{'scaler': StandardScaler(), 'poly': PolynomialFeatures(), 'regressor': LinearRegression()}\n",
      "[5.1775106  5.09367414 5.27094359 ... 6.04911289 5.3445775  5.90723514]\n",
      "R^2: 0.43463578687828175\n"
     ]
    }
   ],
   "source": [
    "# construct pipeline\n",
    "scaler = StandardScaler()\n",
    "poly_features = PolynomialFeatures(degree=2)\n",
    "lin_reg = LinearRegression()\n",
    "\n",
    "pipe = Pipeline([\n",
    "    ('scaler', scaler),\n",
    "    ('poly', poly_features),\n",
    "    ('regressor', lin_reg)\n",
    "])\n",
    "\n",
    "print(pipe.named_steps)\n",
    "# {'scaler': StandardScaler(copy=True, with_mean=True, with_std=True),\n",
    "# 'poly': PolynomialFeatures(degree=2, include_bias=True, interaction_only=False,\n",
    "#                  order='C'),\n",
    "# 'regressor': LinearRegression(copy_X=True, fit_intercept=True, n_jobs=None, normalize=False)}\n",
    "\n",
    "pipe.fit(X, y)\n",
    "y_pred = pipe.predict(X)\n",
    "\n",
    "print(y_pred) \n",
    "print(\"R^2: {}\".format(pipe.score(X, y))) "
   ]
  },
  {
   "cell_type": "code",
   "execution_count": null,
   "metadata": {},
   "outputs": [],
   "source": []
  },
  {
   "cell_type": "code",
   "execution_count": null,
   "metadata": {},
   "outputs": [],
   "source": []
  },
  {
   "cell_type": "code",
   "execution_count": 76,
   "metadata": {},
   "outputs": [
    {
     "name": "stdout",
     "output_type": "stream",
     "text": [
      "Train MSE: 0.42741884555047666\n",
      "Test MSE: 0.38831110647255684\n"
     ]
    }
   ],
   "source": [
    "# Scaled Ridge Pipeline\n",
    "scaled_ridge_pipe = Pipeline([\n",
    "    ('scaler', StandardScaler()),\n",
    "    ('ridge', Ridge())\n",
    "])\n",
    "scaled_ridge_pipe.fit(X_train, y_train)\n",
    "train_preds = scaled_ridge_pipe.predict(X_train)\n",
    "test_preds = scaled_ridge_pipe.predict(X_test)\n",
    "train_mse = mean_squared_error(y_train, train_preds)\n",
    "test_mse = mean_squared_error(y_test, test_preds)\n",
    "print(f'Train MSE: {train_mse}')\n",
    "print(f'Test MSE: {test_mse}')"
   ]
  },
  {
   "cell_type": "code",
   "execution_count": 77,
   "metadata": {},
   "outputs": [
    {
     "name": "stdout",
     "output_type": "stream",
     "text": [
      "[ 0.03789095 -0.1815072  -0.02586149  0.01267413 -0.08656018  0.05116873\n",
      " -0.12048662 -0.03046328 -0.05261369  0.14356923  0.3024526 ]\n"
     ]
    }
   ],
   "source": [
    "ridge_coefs = scaled_ridge_pipe.named_steps['ridge'].coef_\n",
    "print(ridge_coefs)"
   ]
  },
  {
   "cell_type": "code",
   "execution_count": 78,
   "metadata": {},
   "outputs": [],
   "source": [
    "ridge_coefs_df = pd.DataFrame({'coef': ridge_coefs, 'category': X_train.columns}).set_index('category').sort_values(by = 'coef',ascending=True, inplace=False, kind='quicksort', na_position='last', ignore_index=False, key=None)"
   ]
  },
  {
   "cell_type": "code",
   "execution_count": 79,
   "metadata": {},
   "outputs": [
    {
     "name": "stdout",
     "output_type": "stream",
     "text": [
      "                          coef\n",
      "category                      \n",
      "volatile acidity     -0.181507\n",
      "total sulfur dioxide -0.120487\n",
      "chlorides            -0.086560\n",
      "pH                   -0.052614\n",
      "density              -0.030463\n",
      "citric acid          -0.025861\n",
      "residual sugar        0.012674\n",
      "fixed acidity         0.037891\n",
      "free sulfur dioxide   0.051169\n",
      "sulphates             0.143569\n",
      "alcohol               0.302453\n"
     ]
    }
   ],
   "source": [
    "print(ridge_coefs_df)"
   ]
  },
  {
   "cell_type": "markdown",
   "metadata": {},
   "source": [
    "## Sequential Feature Using Lasso"
   ]
  },
  {
   "cell_type": "code",
   "execution_count": 80,
   "metadata": {},
   "outputs": [
    {
     "name": "stdout",
     "output_type": "stream",
     "text": [
      "0.43707106044677807\n",
      "0.40218318692903393\n"
     ]
    },
    {
     "data": {
      "text/plain": [
       "Pipeline(steps=[('selector',\n",
       "                 SequentialFeatureSelector(estimator=LinearRegression(),\n",
       "                                           n_features_to_select=4)),\n",
       "                ('linreg', LinearRegression())])"
      ]
     },
     "execution_count": 80,
     "metadata": {},
     "output_type": "execute_result"
    }
   ],
   "source": [
    "# Sequntial Pipe(4 features) Linear Regression 4 Feat\n",
    "sequential_pipe = Pipeline([\n",
    "                           ('selector', SequentialFeatureSelector(LinearRegression(), \n",
    "                                                                  n_features_to_select=4)),\n",
    "                           ('linreg', LinearRegression())])\n",
    "sequential_pipe.fit(X_train, y_train)\n",
    "sequential_train_mse = mean_squared_error(y_train, sequential_pipe.predict(X_train))\n",
    "sequential_test_mse = mean_squared_error(y_test, sequential_pipe.predict(X_test))\n",
    "print(sequential_train_mse)\n",
    "print(sequential_test_mse)\n",
    "sequential_pipe"
   ]
  },
  {
   "cell_type": "markdown",
   "metadata": {},
   "source": [
    "## Lasso and Ridge"
   ]
  },
  {
   "cell_type": "code",
   "execution_count": 81,
   "metadata": {},
   "outputs": [
    {
     "name": "stdout",
     "output_type": "stream",
     "text": [
      "[-0.01571662 -0.27964657  0.03100756 -0.14894612]\n"
     ]
    }
   ],
   "source": [
    "\n",
    "lasso_pipe = Pipeline([('selector',\n",
    "                 SequentialFeatureSelector(estimator=Lasso(),\n",
    "                                           n_features_to_select=4)),\n",
    "                       ('scaler', StandardScaler()),\n",
    "                     ('ridge', Ridge())])\n",
    "lasso_pipe.fit(X_train, y_train)\n",
    "lasso_coefs = lasso_pipe.named_steps['ridge'].coef_\n",
    "print(lasso_coefs)"
   ]
  },
  {
   "cell_type": "code",
   "execution_count": 82,
   "metadata": {},
   "outputs": [],
   "source": [
    "feature_names = lasso_pipe.named_steps.selector.get_feature_names_out()"
   ]
  },
  {
   "cell_type": "code",
   "execution_count": 83,
   "metadata": {},
   "outputs": [
    {
     "name": "stdout",
     "output_type": "stream",
     "text": [
      "['fixed acidity' 'volatile acidity' 'citric acid' 'total sulfur dioxide']\n"
     ]
    }
   ],
   "source": [
    "print(feature_names)"
   ]
  },
  {
   "cell_type": "code",
   "execution_count": 84,
   "metadata": {},
   "outputs": [
    {
     "data": {
      "text/html": [
       "<div>\n",
       "<style scoped>\n",
       "    .dataframe tbody tr th:only-of-type {\n",
       "        vertical-align: middle;\n",
       "    }\n",
       "\n",
       "    .dataframe tbody tr th {\n",
       "        vertical-align: top;\n",
       "    }\n",
       "\n",
       "    .dataframe thead th {\n",
       "        text-align: right;\n",
       "    }\n",
       "</style>\n",
       "<table border=\"1\" class=\"dataframe\">\n",
       "  <thead>\n",
       "    <tr style=\"text-align: right;\">\n",
       "      <th></th>\n",
       "      <th>Coefficients</th>\n",
       "    </tr>\n",
       "  </thead>\n",
       "  <tbody>\n",
       "    <tr>\n",
       "      <th>fixed acidity</th>\n",
       "      <td>-0.015717</td>\n",
       "    </tr>\n",
       "    <tr>\n",
       "      <th>volatile acidity</th>\n",
       "      <td>-0.279647</td>\n",
       "    </tr>\n",
       "    <tr>\n",
       "      <th>citric acid</th>\n",
       "      <td>0.031008</td>\n",
       "    </tr>\n",
       "    <tr>\n",
       "      <th>total sulfur dioxide</th>\n",
       "      <td>-0.148946</td>\n",
       "    </tr>\n",
       "  </tbody>\n",
       "</table>\n",
       "</div>"
      ],
      "text/plain": [
       "                      Coefficients\n",
       "fixed acidity            -0.015717\n",
       "volatile acidity         -0.279647\n",
       "citric acid               0.031008\n",
       "total sulfur dioxide     -0.148946"
      ]
     },
     "execution_count": 84,
     "metadata": {},
     "output_type": "execute_result"
    }
   ],
   "source": [
    "coefs2 = pd.DataFrame( lasso_coefs,\n",
    "    columns = ['Coefficients'],\n",
    "    index = feature_names)\n",
    "coefs2"
   ]
  },
  {
   "cell_type": "code",
   "execution_count": 85,
   "metadata": {},
   "outputs": [
    {
     "name": "stdout",
     "output_type": "stream",
     "text": [
      "The Lasso Ridge Training MSE: 0.5477973896548033\n",
      "The Lasso Ridge Testing MSE: 0.5027406580661811\n"
     ]
    }
   ],
   "source": [
    "lasso_ridge_train_mse = mean_squared_error(y_train, lasso_pipe.predict(X_train))\n",
    "lasso_ridge_test_mse = mean_squared_error(y_test, lasso_pipe.predict(X_test))\n",
    "print(f'The Lasso Ridge Training MSE: {lasso_ridge_train_mse}')\n",
    "print(f'The Lasso Ridge Testing MSE: {lasso_ridge_test_mse}')"
   ]
  },
  {
   "cell_type": "markdown",
   "metadata": {},
   "source": [
    "## RFE using the Lasso"
   ]
  },
  {
   "cell_type": "code",
   "execution_count": 86,
   "metadata": {},
   "outputs": [
    {
     "name": "stdout",
     "output_type": "stream",
     "text": [
      "[-0.09560055 -0.08240061  0.14056502  0.37638177]\n"
     ]
    }
   ],
   "source": [
    "lasso_pipe2 = Pipeline([('selector',\n",
    "                 RFE(estimator=Lasso(), n_features_to_select=4)),\n",
    "                       ('scaler', StandardScaler()),\n",
    "                     ('ridge', Ridge())])\n",
    "lasso_pipe2.fit(X_train, y_train)\n",
    "lasso_coefs2 = lasso_pipe2.named_steps['ridge'].coef_\n",
    "print(lasso_coefs2)"
   ]
  },
  {
   "cell_type": "code",
   "execution_count": 87,
   "metadata": {},
   "outputs": [
    {
     "name": "stdout",
     "output_type": "stream",
     "text": [
      "['fixed acidity' 'volatile acidity' 'citric acid' 'total sulfur dioxide']\n"
     ]
    }
   ],
   "source": [
    "feature_names2 = lasso_pipe2.named_steps.selector.get_feature_names_out()\n",
    "print(feature_names)"
   ]
  },
  {
   "cell_type": "code",
   "execution_count": 88,
   "metadata": {},
   "outputs": [
    {
     "data": {
      "text/html": [
       "<div>\n",
       "<style scoped>\n",
       "    .dataframe tbody tr th:only-of-type {\n",
       "        vertical-align: middle;\n",
       "    }\n",
       "\n",
       "    .dataframe tbody tr th {\n",
       "        vertical-align: top;\n",
       "    }\n",
       "\n",
       "    .dataframe thead th {\n",
       "        text-align: right;\n",
       "    }\n",
       "</style>\n",
       "<table border=\"1\" class=\"dataframe\">\n",
       "  <thead>\n",
       "    <tr style=\"text-align: right;\">\n",
       "      <th></th>\n",
       "      <th>Coefficients</th>\n",
       "    </tr>\n",
       "  </thead>\n",
       "  <tbody>\n",
       "    <tr>\n",
       "      <th>fixed acidity</th>\n",
       "      <td>-0.095601</td>\n",
       "    </tr>\n",
       "    <tr>\n",
       "      <th>volatile acidity</th>\n",
       "      <td>-0.082401</td>\n",
       "    </tr>\n",
       "    <tr>\n",
       "      <th>citric acid</th>\n",
       "      <td>0.140565</td>\n",
       "    </tr>\n",
       "    <tr>\n",
       "      <th>total sulfur dioxide</th>\n",
       "      <td>0.376382</td>\n",
       "    </tr>\n",
       "  </tbody>\n",
       "</table>\n",
       "</div>"
      ],
      "text/plain": [
       "                      Coefficients\n",
       "fixed acidity            -0.095601\n",
       "volatile acidity         -0.082401\n",
       "citric acid               0.140565\n",
       "total sulfur dioxide      0.376382"
      ]
     },
     "execution_count": 88,
     "metadata": {},
     "output_type": "execute_result"
    }
   ],
   "source": [
    "coefs3 = pd.DataFrame( lasso_coefs2,\n",
    "    columns = ['Coefficients'],\n",
    "    index = feature_names)\n",
    "coefs3"
   ]
  },
  {
   "cell_type": "code",
   "execution_count": 89,
   "metadata": {},
   "outputs": [
    {
     "name": "stdout",
     "output_type": "stream",
     "text": [
      "The Lasso Ridge Training MSE: 0.5477973896548033\n",
      "The Lasso Ridge Testing MSE: 0.5027406580661811\n"
     ]
    }
   ],
   "source": [
    "lasso_RFE_train_mse = mean_squared_error(y_train, lasso_pipe.predict(X_train))\n",
    "lasso_ridge_test_mse = mean_squared_error(y_test, lasso_pipe.predict(X_test))\n",
    "print(f'The Lasso Ridge Training MSE: {lasso_ridge_train_mse}')\n",
    "print(f'The Lasso Ridge Testing MSE: {lasso_ridge_test_mse}')"
   ]
  },
  {
   "cell_type": "code",
   "execution_count": null,
   "metadata": {},
   "outputs": [],
   "source": []
  },
  {
   "cell_type": "code",
   "execution_count": null,
   "metadata": {},
   "outputs": [],
   "source": []
  },
  {
   "cell_type": "code",
   "execution_count": null,
   "metadata": {},
   "outputs": [],
   "source": []
  }
 ],
 "metadata": {
  "kernelspec": {
   "display_name": "Python 3 (ipykernel)",
   "language": "python",
   "name": "python3"
  },
  "language_info": {
   "codemirror_mode": {
    "name": "ipython",
    "version": 3
   },
   "file_extension": ".py",
   "mimetype": "text/x-python",
   "name": "python",
   "nbconvert_exporter": "python",
   "pygments_lexer": "ipython3",
   "version": "3.9.12"
  },
  "widgets": {
   "application/vnd.jupyter.widget-state+json": {
    "state": {},
    "version_major": 2,
    "version_minor": 0
   }
  }
 },
 "nbformat": 4,
 "nbformat_minor": 4
}
